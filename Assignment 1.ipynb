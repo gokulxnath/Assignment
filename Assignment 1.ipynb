{
 "cells": [
  {
   "cell_type": "markdown",
   "id": "fa8a3f3c",
   "metadata": {},
   "source": [
    "# Fibonacci Series"
   ]
  },
  {
   "cell_type": "code",
   "execution_count": 2,
   "id": "aec2f856",
   "metadata": {},
   "outputs": [
    {
     "name": "stdout",
     "output_type": "stream",
     "text": [
      "1\t1\t2\t3\t5\t8\t13\t21\t34\t"
     ]
    }
   ],
   "source": [
    "x = 0\n",
    "y = 1\n",
    "while y <= 50:\n",
    "    print(y, end = '\\t')\n",
    "    x, y = y, x + y"
   ]
  },
  {
   "cell_type": "markdown",
   "id": "d5fd6892",
   "metadata": {},
   "source": [
    "# Python program that accepts a word from the user and reverse it"
   ]
  },
  {
   "cell_type": "code",
   "execution_count": 6,
   "id": "492a1334",
   "metadata": {},
   "outputs": [
    {
     "name": "stdout",
     "output_type": "stream",
     "text": [
      "Input: Hello\n",
      "Output: olleH\n"
     ]
    }
   ],
   "source": [
    "word = input('Input: ')\n",
    "print('Output:',(word[::-1]))"
   ]
  },
  {
   "cell_type": "markdown",
   "id": "2ceb1460",
   "metadata": {},
   "source": [
    "# Python program to count the number of even and odd numbers from a series of numbers"
   ]
  },
  {
   "cell_type": "code",
   "execution_count": null,
   "id": "833a071d",
   "metadata": {},
   "outputs": [],
   "source": []
  }
 ],
 "metadata": {
  "kernelspec": {
   "display_name": "Python 3 (ipykernel)",
   "language": "python",
   "name": "python3"
  },
  "language_info": {
   "codemirror_mode": {
    "name": "ipython",
    "version": 3
   },
   "file_extension": ".py",
   "mimetype": "text/x-python",
   "name": "python",
   "nbconvert_exporter": "python",
   "pygments_lexer": "ipython3",
   "version": "3.9.7"
  }
 },
 "nbformat": 4,
 "nbformat_minor": 5
}
