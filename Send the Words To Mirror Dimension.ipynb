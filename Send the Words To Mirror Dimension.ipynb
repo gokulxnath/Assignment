{
 "cells": [
  {
   "cell_type": "markdown",
   "id": "474eea62",
   "metadata": {},
   "source": [
    "# Python program that accepts a word from the user and reverse it."
   ]
  },
  {
   "cell_type": "code",
   "execution_count": 1,
   "id": "87eeb4d9",
   "metadata": {},
   "outputs": [
    {
     "name": "stdout",
     "output_type": "stream",
     "text": [
      "Input: Hello\n",
      "olleH\n",
      "\n"
     ]
    }
   ],
   "source": [
    "word = input('Input: ')\n",
    "\n",
    "for char in range (len(word)-1, -1, -1):\n",
    "    print(word[char],end = '')\n",
    "print('\\n')"
   ]
  }
 ],
 "metadata": {
  "kernelspec": {
   "display_name": "Python 3 (ipykernel)",
   "language": "python",
   "name": "python3"
  },
  "language_info": {
   "codemirror_mode": {
    "name": "ipython",
    "version": 3
   },
   "file_extension": ".py",
   "mimetype": "text/x-python",
   "name": "python",
   "nbconvert_exporter": "python",
   "pygments_lexer": "ipython3",
   "version": "3.9.7"
  }
 },
 "nbformat": 4,
 "nbformat_minor": 5
}
